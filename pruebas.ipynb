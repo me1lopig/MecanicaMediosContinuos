{
 "cells": [
  {
   "cell_type": "code",
   "execution_count": 1,
   "metadata": {},
   "outputs": [],
   "source": [
    "import numpy as np"
   ]
  },
  {
   "cell_type": "code",
   "execution_count": 1,
   "metadata": {},
   "outputs": [],
   "source": [
    "tensor=([1,2,3],[2,5,8],[5,9,3])"
   ]
  },
  {
   "cell_type": "code",
   "execution_count": 3,
   "metadata": {},
   "outputs": [
    {
     "data": {
      "text/plain": [
       "([1, 2, 3], [2, 5, 8], [5, 9, 3])"
      ]
     },
     "execution_count": 3,
     "metadata": {},
     "output_type": "execute_result"
    }
   ],
   "source": [
    "tensor"
   ]
  },
  {
   "cell_type": "code",
   "execution_count": 4,
   "metadata": {},
   "outputs": [],
   "source": [
    "def invariantes(tensor):\n",
    "    \n",
    "    # Calcular las autovalores del tensor\n",
    "    autovalores = np.linalg.eigvals(tensor)\n",
    "\n",
    "    # Calcular las invariantes\n",
    "    I1 = np.sum(autovalores)\n",
    "    I2 = np.prod(autovalores)\n",
    "    I3 = np.linalg.det(tensor)\n",
    "\n",
    "    return I1,I2,I3"
   ]
  },
  {
   "cell_type": "code",
   "execution_count": 6,
   "metadata": {},
   "outputs": [],
   "source": [
    "I1,I2,I3=invariantes(tensor)"
   ]
  },
  {
   "cell_type": "code",
   "execution_count": 7,
   "metadata": {},
   "outputs": [
    {
     "name": "stdout",
     "output_type": "stream",
     "text": [
      "8.999999999999996   -10.000000000000009   -10.000000000000002\n"
     ]
    }
   ],
   "source": [
    "print(I1,\" \",I2,\" \",I3)"
   ]
  },
  {
   "cell_type": "code",
   "execution_count": 2,
   "metadata": {},
   "outputs": [
    {
     "data": {
      "text/plain": [
       "3"
      ]
     },
     "execution_count": 2,
     "metadata": {},
     "output_type": "execute_result"
    }
   ],
   "source": [
    "len(tensor)"
   ]
  },
  {
   "cell_type": "code",
   "execution_count": 3,
   "metadata": {},
   "outputs": [],
   "source": [
    "import tkinter as tk\n",
    "import numpy as np\n",
    "\n",
    "# Función que convierte el tensor en matriz tridimensional\n",
    "def convertir():\n",
    "    # Obtenemos los valores de los campos de entrada\n",
    "    t11 = int(entry11.get())\n",
    "    t12 = int(entry12.get())\n",
    "    t13 = int(entry13.get())\n",
    "    t22 = int(entry22.get())\n",
    "    t23 = int(entry23.get())\n",
    "    t33 = int(entry33.get())\n",
    "\n",
    "    # Creamos el tensor tridimensional simétrico\n",
    "    tensor = np.array([[[t11, t12, t13],\n",
    "                        [t12, t22, t23],\n",
    "                        [t13, t23, t33]]])\n",
    "\n",
    "    # Convertimos el tensor en matriz tridimensional\n",
    "    matriz = np.zeros((3, 3))\n",
    "\n",
    "    for i in range(3):\n",
    "        for j in range(i, 3):\n",
    "            matriz[i][j] = tensor[0][i][j]\n",
    "            matriz[j][i] = tensor[0][i][j]\n",
    "\n",
    "    # Actualizamos la etiqueta con el resultado de la conversión\n",
    "    resultado.config(text=str(matriz))\n",
    "\n",
    "# Creamos la ventana principal\n",
    "ventana = tk.Tk()\n",
    "ventana.title(\"Conversión de tensor simétrico a matriz\")\n",
    "\n",
    "# Creamos los campos de entrada\n",
    "entry11 = tk.Entry(ventana)\n",
    "entry11.grid(row=0, column=0)\n",
    "\n",
    "entry12 = tk.Entry(ventana)\n",
    "entry12.grid(row=0, column=1)\n",
    "\n",
    "entry13 = tk.Entry(ventana)\n",
    "entry13.grid(row=0, column=2)\n",
    "\n",
    "entry22 = tk.Entry(ventana)\n",
    "entry22.grid(row=1, column=1)\n",
    "\n",
    "entry23 = tk.Entry(ventana)\n",
    "entry23.grid(row=1, column=2)\n",
    "\n",
    "entry33 = tk.Entry(ventana)\n",
    "entry33.grid(row=2, column=2)\n",
    "\n",
    "# Creamos el botón para iniciar la conversión\n",
    "boton = tk.Button(ventana, text=\"Convertir\", command=convertir)\n",
    "boton.grid(row=3, column=2)\n",
    "\n",
    "# Creamos la etiqueta para mostrar el resultado\n",
    "resultado = tk.Label(ventana, text=\"\")\n",
    "resultado.grid(row=4, column=2)\n",
    "\n",
    "ventana.mainloop()\n"
   ]
  },
  {
   "cell_type": "code",
   "execution_count": 5,
   "metadata": {},
   "outputs": [
    {
     "name": "stdout",
     "output_type": "stream",
     "text": [
      "[[ 0.8660254 -0.5        0.       ]\n",
      " [ 0.5        0.8660254  0.       ]\n",
      " [ 0.         0.         1.       ]]\n",
      "None\n"
     ]
    }
   ],
   "source": [
    "import funciones as fn \n",
    "matriz=fn.cam_base(0,0,30)\n",
    "print(matriz)\n",
    "\n"
   ]
  }
 ],
 "metadata": {
  "kernelspec": {
   "display_name": "Python 3",
   "language": "python",
   "name": "python3"
  },
  "language_info": {
   "codemirror_mode": {
    "name": "ipython",
    "version": 3
   },
   "file_extension": ".py",
   "mimetype": "text/x-python",
   "name": "python",
   "nbconvert_exporter": "python",
   "pygments_lexer": "ipython3",
   "version": "3.11.1"
  },
  "orig_nbformat": 4,
  "vscode": {
   "interpreter": {
    "hash": "5e7a5c181721e103aa151c83cc84ea21ebd204ca82cdc0d1320216c86d96fddf"
   }
  }
 },
 "nbformat": 4,
 "nbformat_minor": 2
}
